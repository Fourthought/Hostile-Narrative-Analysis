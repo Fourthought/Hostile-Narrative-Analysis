{
 "cells": [
  {
   "cell_type": "code",
   "execution_count": null,
   "metadata": {},
   "outputs": [],
   "source": [
    "################\n",
    "# first\n",
    "###############\n",
    "\n",
    "# '(NP_\\\\w+ (, )?such as                  (NP_\\\\w+ ?(, )?(and |or )?)+)',  'first'\n",
    "# '(NP_\\\\w+ (, )?include                  (NP_\\\\w+ ?(, )?(and |or )?)+)',  'first'\n",
    "# '(NP_\\\\w+ (, )?especially               (NP_\\\\w+ ?(, )?(and |or )?)+)',  'first\n",
    "# '(NP_\\\\w+ (, )?like                     (NP_\\\\w+ ? (, )?(and |or )?)+)', 'first'\n",
    "# '(NP_\\\\w+ (, )?mainly                   (NP_\\\\w+ ? (, )?(and |or )?)+)', 'first'\n",
    "# '(NP_\\\\w+ (, )?mostly                   (NP_\\\\w+ ? (, )?(and |or )?)+)', 'first'\n",
    "# '(NP_\\\\w+ (, )?notably                  (NP_\\\\w+ ? (, )?(and |or )?)+)', 'first'\n",
    "# '(NP_\\\\w+ (, )?except                   (NP_\\\\w+ ? (, )?(and |or )?)+)', 'first'\n",
    "# '(NP_\\\\w+ (, )?other than               (NP_\\\\w+ ? (, )?(and |or )?)+)', 'first'\n",
    "# '(NP_\\\\w+ (, )?principally              (NP_\\\\w+ ? (, )?(and |or )?)+)', 'first'\n",
    "# '(NP_\\\\w+ (, )?type                     (NP_\\\\w+ ? (, )?(and |or )?)+)', 'first'\n",
    "# '(NP_\\\\w+ (, )?compare to               (NP_\\\\w+ ? (, )?(and |or )?)+)', 'first'\n",
    "# '(NP_\\\\w+ (, )?whether                  (NP_\\\\w+ ? (, )?(and |or )?)+)', 'first'\n",
    "# '(NP_\\\\w+ (, )?particularly             (NP_\\\\w+ ?(, )?(and |or )?)+)', 'first'\n",
    "# '(NP_\\\\w+ (, )?in particular            (NP_\\\\w+ ?(, )?(and |or )?)+)', 'first'\n",
    "# '(NP_\\\\w+ (, )?which be similar to      (NP_\\\\w+ ?(, )?(and |or )?)+)', 'first'\n",
    "# '(NP_\\\\w+ (, )?example of this be       (NP_\\\\w+ ?(, )?(and |or )?)+)', 'first'\n",
    "# '(NP_\\\\w+ (, )?among -PRON-             (NP_\\\\w+ ?(, )?(and |or )?)+)', 'first'\n",
    "# '(NP_\\\\w+ (, )?which may include        (NP_\\\\w+ ?(, )?(and |or )?)+)', 'first'\n",
    "# '(NP_\\\\w+ (, )?for example         (, )?(NP_\\\\w+ ?(, )?(and |or )?)+)', 'first'\n",
    "\n",
    "# funnies\n",
    "# '(such NP_\\\\w+ (, )?as        (NP_\\\\w+ ?(, )?(and |or )?)+)',          'first'\n",
    "# 'such (NP_\\\\w+ (, )?as        (NP_\\\\w+ ? (, )?(and |or )?)+)',         'first'\n",
    "# '(NP_\\\\w+ (, )? (NP_\\\\w+ ? (, )?(and |or )?)+ for instance)',          'first'\n",
    "\n",
    "# eg & ie\n",
    "# '(NP_\\\\w+ (, )?e.g. (, )?     (NP_\\\\w+ ? (, )?(and |or )?)+)',          'first'\n",
    "# '(NP_\\\\w+ (, )?i.e. (, )?     (NP_\\\\w+ ? (, )?(and |or )?)+)',          'first'\n",
    "# '(NP_\\\\w+ \\\\( (e.g.|i.e.) (, )?(NP_\\\\w+ ? (, )?(and |or )?)+(\\\\. )?\\\\))', 'first'\n",
    "\n",
    "#funnies\n",
    "\n",
    "\n",
    "#double liners\n",
    "# 'example of (NP_\\\\w+ (, )?be (NP_\\\\w+ ?(, )?(and |or )?)+)',                                         'first'\n",
    "\n",
    "\n",
    "#######################\n",
    "#last\n",
    "#######################\n",
    "# '((NP_\\\\w+ ?(, )?)+(and |or )?other NP_\\\\w+)',                 'last'\n",
    "# '((NP_\\\\w+ ?(, )?)+(and |or )?any other NP_\\\\w+)',             'last'\n",
    "# '((NP_\\\\w+ ?(, )?)+(and |or )?some other NP_\\\\w+)',            'last'\n",
    "# '((NP_\\\\w+ ?(, )?)+(and |or )?be a NP_\\\\w+)',                  'last'\n",
    "# '((NP_\\\\w+ ?(, )?)+(and |or )?like other NP_\\\\w+)',            'last'\n",
    "# '((NP_\\\\w+ ?(, )?)+(and |or )?one of the NP_\\\\w+)',            'last'\n",
    "# '((NP_\\\\w+ ?(, )?)+(and |or )?one of these NP_\\\\w+)',          'last'\n",
    "# '((NP_\\\\w+ ?(, )?)+(and |or )?one of those NP_\\\\w+)',          'last'\n",
    "# '((NP_\\\\w+ ?(, )?)+(and |or )?be example of NP_\\\\w+)',         'last'\n",
    "# '((NP_\\\\w+ ?(, )?)+(and |or )?which be call NP_\\\\w+)',         'last'\n",
    "# '((NP_\\\\w+ ?(, )?)+(and |or )?which be name NP_\\\\w+)',         'last'\n",
    "# '((NP_\\\\w+ ?(, )?)+(and|or)? a kind of NP_\\\\w+)',              'last'\n",
    "# '((NP_\\\\w+ ?(, )?)+(and|or)? kind of NP_\\\\w+)',                'last'\n",
    "# '((NP_\\\\w+ ?(, )?)+(and|or)? form of NP_\\\\w+)',                'last'\n",
    "# '((NP_\\\\w+ ?(, )?)+(and |or )?which look like NP_\\\\w+)',       'last'\n",
    "# '((NP_\\\\w+ ?(, )?)+(and |or )?which sound like NP_\\\\w+)',      'last'\n",
    "# '((NP_\\\\w+ ?(, )?)+(and |or )?as NP_\\\\w+)',                    'last'\n",
    "# '((NP_\\\\w+ ?(, )?)+(and|or)? sort of NP_\\\\w+)',                'last'\n",
    "\n",
    "## funnies\n",
    "# '(compare (NP_\\\\w+ ?(, )?)+(and |or )?with NP_\\\\w+)',          'last'\n",
    "# '((NP_\\\\w+ ?(, )?)+(and |or )? NP_\\\\w+ type)',                 'last'\n",
    "\n"
   ]
  },
  {
   "cell_type": "code",
   "execution_count": 7,
   "metadata": {},
   "outputs": [
    {
     "name": "stdout",
     "output_type": "stream",
     "text": [
      "{'predicate': 'like', 'hypernyms': [('Taliban', 'terrorist')]}\n"
     ]
    }
   ],
   "source": [
    "pairs = dict()\n",
    "\n",
    "like = \"like\"\n",
    "hypernym = \"Taliban\"\n",
    "hyponym = \"terrorist\"\n",
    "known_as = \"known_as\"\n",
    "hypernym2 = \"terrorist organisation\"\n",
    "hypernym2 = \"al Qaeda\"\n",
    "\n",
    "\n",
    "pairs = {\"predicate\" : like, \"hypernyms\" : [(hypernym, hyponym)]}\n",
    "\n",
    "print(pairs)"
   ]
  }
 ],
 "metadata": {
  "kernelspec": {
   "display_name": "Python 3",
   "language": "python",
   "name": "python3"
  },
  "language_info": {
   "codemirror_mode": {
    "name": "ipython",
    "version": 3
   },
   "file_extension": ".py",
   "mimetype": "text/x-python",
   "name": "python",
   "nbconvert_exporter": "python",
   "pygments_lexer": "ipython3",
   "version": "3.7.6"
  }
 },
 "nbformat": 4,
 "nbformat_minor": 4
}
