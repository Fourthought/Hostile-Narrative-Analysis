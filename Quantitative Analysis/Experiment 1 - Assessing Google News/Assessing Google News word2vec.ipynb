{
 "cells": [
  {
   "cell_type": "code",
   "execution_count": 2,
   "id": "d50ac632-1ac3-4343-84c3-e0829e372000",
   "metadata": {},
   "outputs": [
    {
     "name": "stdout",
     "output_type": "stream",
     "text": [
      "[==================================================] 100.0% 1662.8/1662.8MB downloaded\n"
     ]
    }
   ],
   "source": [
    "import gensim\n",
    "from gensim import models\n",
    "from gensim.models import Word2Vec\n",
    "import gensim.downloader as api\n",
    "\n",
    "google_wv = api.load('word2vec-google-news-300')"
   ]
  },
  {
   "cell_type": "code",
   "execution_count": 7,
   "id": "65e5f04f-07b7-4162-b2e5-2ad9c3b51b6d",
   "metadata": {},
   "outputs": [
    {
     "name": "stdout",
     "output_type": "stream",
     "text": [
      "[('terror', 0.8476201891899109), ('terrorists', 0.80003821849823), ('terrorism', 0.7522497177124023), ('al_Qaeda', 0.731433093547821), ('Terrorist', 0.7178781032562256), ('Al_Qaeda', 0.7080404162406921), ('extremist', 0.681232750415802), (\"al_Qa'ida\", 0.6795461773872375), ('jihadist', 0.6788939237594604), ('al_Qaida', 0.6745679378509521)]\n"
     ]
    }
   ],
   "source": [
    "print(google_wv.most_similar('terrorist'))"
   ]
  },
  {
   "cell_type": "code",
   "execution_count": null,
   "id": "6018716b-9022-466d-90e6-ca0eb2d08e6f",
   "metadata": {},
   "outputs": [],
   "source": []
  },
  {
   "cell_type": "code",
   "execution_count": null,
   "id": "11bed741-d9fc-41f8-9847-4967b85278c5",
   "metadata": {},
   "outputs": [],
   "source": []
  },
  {
   "cell_type": "code",
   "execution_count": null,
   "id": "4022ffaa-76bc-4832-99c9-255d4ebdd9e2",
   "metadata": {},
   "outputs": [],
   "source": []
  },
  {
   "cell_type": "code",
   "execution_count": null,
   "id": "67195183-a393-4d2b-8d18-de30e8951334",
   "metadata": {},
   "outputs": [],
   "source": []
  },
  {
   "cell_type": "code",
   "execution_count": null,
   "id": "e0b29e70-38de-4964-972c-5e99bf3ccb86",
   "metadata": {},
   "outputs": [],
   "source": []
  },
  {
   "cell_type": "code",
   "execution_count": null,
   "id": "b6062e78-6d81-40dd-b792-090c10389d6a",
   "metadata": {},
   "outputs": [],
   "source": []
  }
 ],
 "metadata": {
  "kernelspec": {
   "display_name": "spaCy_v3",
   "language": "python",
   "name": "spacy_v3"
  },
  "language_info": {
   "codemirror_mode": {
    "name": "ipython",
    "version": 3
   },
   "file_extension": ".py",
   "mimetype": "text/x-python",
   "name": "python",
   "nbconvert_exporter": "python",
   "pygments_lexer": "ipython3",
   "version": "3.8.12"
  }
 },
 "nbformat": 4,
 "nbformat_minor": 5
}
