{
 "cells": [
  {
   "cell_type": "markdown",
   "id": "258068d3-9972-402f-aa31-caa8cc7495d3",
   "metadata": {},
   "source": [
    "# Create Normalised Entities for Pre_processing\n",
    "\n",
    "This note book is about creating a list of normalised names for named entities.\n",
    "\n",
    "For examples, 'The United States of America' and 'American' normalise to 'United States'"
   ]
  },
  {
   "cell_type": "code",
   "execution_count": null,
   "id": "4b37a631-9333-4363-be2c-c0d7837fee09",
   "metadata": {},
   "outputs": [],
   "source": [
    "import spacy\n",
    "\n",
    "nlp = spacy.load(\"en_core_web_md\")\n",
    "nlp.add_pipe('merge_entities', after = 'ner')\n",
    "nlp.add_pipe(\"entityfishing\", config={\"extra_info\": True})\n",
    "\n",
    "display(pd.DataFrame({'spaCy pipeline components': nlp.pipe_names}).T)"
   ]
  },
  {
   "cell_type": "code",
   "execution_count": null,
   "id": "5f3faa5a-efe4-426e-9793-5d72bb65ea85",
   "metadata": {},
   "outputs": [],
   "source": [
    "%%time\n",
    "\n",
    "import datetime\n",
    "import os\n",
    "\n",
    "def get_dataset_dirpath(cwd):\n",
    "    \n",
    "    two_up = os.path.dirname(os.path.dirname(cwd))\n",
    "    \n",
    "    return os.path.join(two_up, 'dataset')\n",
    "\n",
    "dataset_dirpath = get_dataset_dirpath(os.getcwd())\n",
    "\n",
    "binladenpath = os.path.join(dataset_dirpath, 'Osama bin Laden/')\n",
    "bushpath = os.path.join(dataset_dirpath, 'George Bush/')\n",
    "\n",
    "\n",
    "Bush_FileList = [\n",
    "    '20010914-Remarks at the National Day of Prayer & Remembrance Service.txt',\n",
    "    '20010915-First Radio Address following 911.txt',\n",
    "    '20010917-Address at Islamic Center of Washington, D.C..txt',\n",
    "    '20010920-Address to Joint Session of Congress Following 911 Attacks.txt',\n",
    "    '20010911-911 Address to the Nation.txt',\n",
    "    '20011007-Operation Enduring Freedom in Afghanistan Address to the Nation.txt',\n",
    "    '20011011-911 Pentagon Remembrance Address.txt',\n",
    "    '20011011-Prime Time News Conference on War on Terror.txt',\n",
    "    '20011026-Address on Signing the USA Patriot Act of 2001.txt',\n",
    "    '20011110-First Address to the United Nations General Assembly.txt',\n",
    "    '20011211-Address to Citadel Cadets.txt',\n",
    "    '20011211-The World Will Always Remember 911.txt',\n",
    "    '20020129-First (Official) Presidential State of the Union Address.txt'\n",
    "]\n",
    "\n",
    "text = ''\n",
    "\n",
    "raw = \"\"\n",
    "for file in Bush_FileList:\n",
    "    with open(os.path.join(bushpath, file), 'r') as text:\n",
    "        raw = raw + text.read()\n",
    "        \n",
    "print(f'doc length: {len(raw)}')"
   ]
  },
  {
   "cell_type": "code",
   "execution_count": null,
   "id": "27c34744-8727-427b-bccd-7e33b8c3faaf",
   "metadata": {},
   "outputs": [],
   "source": [
    "doc = nlp(raw)"
   ]
  },
  {
   "cell_type": "code",
   "execution_count": null,
   "id": "1e731c87-56b3-44e6-9a57-577677d7ccee",
   "metadata": {},
   "outputs": [],
   "source": [
    "import json\n",
    "\n",
    "normal_ents = {ent.text: ent._.normal_term for ent in doc.ents \n",
    "               if ent._.normal_term \n",
    "               and ent.label_ in ['GPE', 'NORP', 'PERSON', 'ORG']\n",
    "               and ent.text != ent._.normal_term\n",
    "              }\n",
    "\n",
    "\n",
    "# Serialize data into file:\n",
    "json.dump( normal_ents, open( \"normalised_ents.json\", 'w' ) )"
   ]
  },
  {
   "cell_type": "code",
   "execution_count": 3,
   "id": "3553bef1-f565-48f5-be4a-139360911eb6",
   "metadata": {},
   "outputs": [],
   "source": [
    "import json\n",
    "\n",
    "# Read data from file:\n",
    "normalised_ents = json.load( open( \"normalised_ents.json\" ) )"
   ]
  }
 ],
 "metadata": {
  "kernelspec": {
   "display_name": "spaCy_v3",
   "language": "python",
   "name": "spacy_v3"
  },
  "language_info": {
   "codemirror_mode": {
    "name": "ipython",
    "version": 3
   },
   "file_extension": ".py",
   "mimetype": "text/x-python",
   "name": "python",
   "nbconvert_exporter": "python",
   "pygments_lexer": "ipython3",
   "version": "3.8.12"
  }
 },
 "nbformat": 4,
 "nbformat_minor": 5
}
